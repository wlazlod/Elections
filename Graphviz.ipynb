{
  "nbformat": 4,
  "nbformat_minor": 0,
  "metadata": {
    "colab": {
      "name": "Graphviz.ipynb",
      "provenance": [],
      "authorship_tag": "ABX9TyOfR7+cwFj8/7tXH2eY3PE/",
      "include_colab_link": true
    },
    "kernelspec": {
      "name": "python3",
      "display_name": "Python 3"
    }
  },
  "cells": [
    {
      "cell_type": "markdown",
      "metadata": {
        "id": "view-in-github",
        "colab_type": "text"
      },
      "source": [
        "<a href=\"https://colab.research.google.com/github/wlazlod/Elections/blob/master/Graphviz.ipynb\" target=\"_parent\"><img src=\"https://colab.research.google.com/assets/colab-badge.svg\" alt=\"Open In Colab\"/></a>"
      ]
    },
    {
      "cell_type": "markdown",
      "metadata": {
        "id": "V73rJaAeX-mS",
        "colab_type": "text"
      },
      "source": [
        "# Graphviz"
      ]
    },
    {
      "cell_type": "code",
      "metadata": {
        "id": "yYOyM4-hXupQ",
        "colab_type": "code",
        "colab": {
          "base_uri": "https://localhost:8080/",
          "height": 34
        },
        "outputId": "c2e7353e-3195-4fcc-f230-46e1b56964e7"
      },
      "source": [
        "!pip install graphviz"
      ],
      "execution_count": 1,
      "outputs": [
        {
          "output_type": "stream",
          "text": [
            "Requirement already satisfied: graphviz in /usr/local/lib/python3.6/dist-packages (0.10.1)\n"
          ],
          "name": "stdout"
        }
      ]
    },
    {
      "cell_type": "code",
      "metadata": {
        "id": "UNi8b7pJX6rp",
        "colab_type": "code",
        "colab": {}
      },
      "source": [
        "from graphviz import Digraph"
      ],
      "execution_count": 2,
      "outputs": []
    },
    {
      "cell_type": "markdown",
      "metadata": {
        "id": "vptHzrqJhUov",
        "colab_type": "text"
      },
      "source": [
        "## Przykład 1 - ręczne wprowadzanie"
      ]
    },
    {
      "cell_type": "markdown",
      "metadata": {
        "id": "ilwn05l0X7I9",
        "colab_type": "text"
      },
      "source": [
        "Utworzenie wykresu"
      ]
    },
    {
      "cell_type": "code",
      "metadata": {
        "id": "w7f1-OghX1v_",
        "colab_type": "code",
        "colab": {}
      },
      "source": [
        "pina_graph = Digraph(comment='Piña colada')"
      ],
      "execution_count": 3,
      "outputs": []
    },
    {
      "cell_type": "markdown",
      "metadata": {
        "id": "0r1GJ80YhGWR",
        "colab_type": "text"
      },
      "source": [
        "Dodanie wierzchołków"
      ]
    },
    {
      "cell_type": "code",
      "metadata": {
        "id": "WXjW6ceNZ88J",
        "colab_type": "code",
        "colab": {}
      },
      "source": [
        "pina_graph.node('letter', 'Read the letter')\n",
        "pina_graph.node('response', 'Write to the author')\n",
        "pina_graph.node('escape', 'Escape')\n",
        "pina_graph.node('nothing', 'Do nothing')\n"
      ],
      "execution_count": 4,
      "outputs": []
    },
    {
      "cell_type": "code",
      "metadata": {
        "id": "1ChF2NdQbGF9",
        "colab_type": "code",
        "colab": {}
      },
      "source": [
        "pina_graph.node('pina', 'Do you like piña coladas?', shape='diamond')\n",
        "pina_graph.node('rain', 'Do you like getting caught in the rain?', shape='diamond')\n",
        "pina_graph.node('yoga', 'Are you into yoga?', shape='diamond')\n",
        "pina_graph.node('brain', 'How much brain do you have?', shape='diamond')\n",
        "pina_graph.node('sex', 'Do you like making love at midnight in the dunes on the cape?', shape='diamond')\n",
        "pina_graph.node('author', 'Author is the love that you\\'ve looked for', shape='rectangle')"
      ],
      "execution_count": 5,
      "outputs": []
    },
    {
      "cell_type": "markdown",
      "metadata": {
        "id": "QG4ngK3ShNxE",
        "colab_type": "text"
      },
      "source": [
        "Dodanie krawędzi"
      ]
    },
    {
      "cell_type": "code",
      "metadata": {
        "id": "CUTMkCUkfDWD",
        "colab_type": "code",
        "colab": {}
      },
      "source": [
        "pina_graph.edge('pina', 'rain', 'yes')\n",
        "pina_graph.edge('rain', 'yoga', 'yes')\n",
        "pina_graph.edge('yoga', 'brain', 'no')\n",
        "pina_graph.edge('brain', 'sex', 'a half')\n",
        "pina_graph.edge('sex', 'author', 'yes')\n",
        "\n",
        "pina_graph.edge('pina', 'nothing', 'no')\n",
        "pina_graph.edge('rain', 'nothing', 'no')\n",
        "pina_graph.edge('yoga', 'nothing', 'yes')\n",
        "pina_graph.edge('brain', 'nothing', 'whole')\n",
        "pina_graph.edge('sex', 'nothing', 'no')"
      ],
      "execution_count": 6,
      "outputs": []
    },
    {
      "cell_type": "code",
      "metadata": {
        "id": "cPLeaRoLccgw",
        "colab_type": "code",
        "colab": {}
      },
      "source": [
        "pina_graph.edges([('letter', 'pina'), ('author', 'response'), ('response', 'escape')])"
      ],
      "execution_count": 7,
      "outputs": []
    },
    {
      "cell_type": "markdown",
      "metadata": {
        "id": "5za0-vV4hQ1Q",
        "colab_type": "text"
      },
      "source": [
        "Utworzenie pliku **źródłowego**"
      ]
    },
    {
      "cell_type": "code",
      "metadata": {
        "id": "k67XWLqMg3Ja",
        "colab_type": "code",
        "colab": {
          "base_uri": "https://localhost:8080/",
          "height": 454
        },
        "outputId": "f1a971b2-cc3f-4aac-8baf-cf0a856903ec"
      },
      "source": [
        "print(pina_graph.source) "
      ],
      "execution_count": 11,
      "outputs": [
        {
          "output_type": "stream",
          "text": [
            "// Piña colada\n",
            "digraph {\n",
            "\tletter [label=\"Read the letter\"]\n",
            "\tresponse [label=\"Write to the author\"]\n",
            "\tescape [label=Escape]\n",
            "\tnothing [label=\"Do nothing\"]\n",
            "\tpina [label=\"Do you like piña coladas?\" shape=diamond]\n",
            "\train [label=\"Do you like getting caught in the rain?\" shape=diamond]\n",
            "\tyoga [label=\"Are you into yoga?\" shape=diamond]\n",
            "\tbrain [label=\"How much brain do you have?\" shape=diamond]\n",
            "\tsex [label=\"Do you like making love at midnight in the dunes on the cape?\" shape=diamond]\n",
            "\tauthor [label=\"Author is the love that you've looked for\" shape=rectangle]\n",
            "\tpina -> rain [label=yes]\n",
            "\train -> yoga [label=yes]\n",
            "\tyoga -> brain [label=no]\n",
            "\tbrain -> sex [label=\"a half\"]\n",
            "\tsex -> author [label=yes]\n",
            "\tpina -> nothing [label=no]\n",
            "\train -> nothing [label=no]\n",
            "\tyoga -> nothing [label=yes]\n",
            "\tbrain -> nothing [label=whole]\n",
            "\tsex -> nothing [label=no]\n",
            "\tletter -> pina\n",
            "\tauthor -> response\n",
            "\tresponse -> escape\n",
            "}\n"
          ],
          "name": "stdout"
        }
      ]
    },
    {
      "cell_type": "code",
      "metadata": {
        "id": "kcdTNkOidQx5",
        "colab_type": "code",
        "colab": {
          "base_uri": "https://localhost:8080/",
          "height": 972
        },
        "outputId": "1af2e698-8363-40e1-ba49-fd881064167b"
      },
      "source": [
        "pina_graph"
      ],
      "execution_count": 9,
      "outputs": [
        {
          "output_type": "execute_result",
          "data": {
            "text/plain": [
              "<graphviz.dot.Digraph at 0x7fa7ae3bcb70>"
            ],
            "image/svg+xml": "<?xml version=\"1.0\" encoding=\"UTF-8\" standalone=\"no\"?>\n<!DOCTYPE svg PUBLIC \"-//W3C//DTD SVG 1.1//EN\"\n \"http://www.w3.org/Graphics/SVG/1.1/DTD/svg11.dtd\">\n<!-- Generated by graphviz version 2.40.1 (20161225.0304)\n -->\n<!-- Title: %3 Pages: 1 -->\n<svg width=\"1061pt\" height=\"698pt\"\n viewBox=\"0.00 0.00 1060.86 698.00\" xmlns=\"http://www.w3.org/2000/svg\" xmlns:xlink=\"http://www.w3.org/1999/xlink\">\n<g id=\"graph0\" class=\"graph\" transform=\"scale(1 1) rotate(0) translate(4 694)\">\n<title>%3</title>\n<polygon fill=\"#ffffff\" stroke=\"transparent\" points=\"-4,4 -4,-694 1056.8599,-694 1056.8599,4 -4,4\"/>\n<!-- letter -->\n<g id=\"node1\" class=\"node\">\n<title>letter</title>\n<ellipse fill=\"none\" stroke=\"#000000\" cx=\"152.5801\" cy=\"-672\" rx=\"63.8893\" ry=\"18\"/>\n<text text-anchor=\"middle\" x=\"152.5801\" y=\"-668.3\" font-family=\"Times,serif\" font-size=\"14.00\" fill=\"#000000\">Read the letter</text>\n</g>\n<!-- pina -->\n<g id=\"node5\" class=\"node\">\n<title>pina</title>\n<polygon fill=\"none\" stroke=\"#000000\" points=\"152.5801,-617 -.0801,-599 152.5801,-581 305.2404,-599 152.5801,-617\"/>\n<text text-anchor=\"middle\" x=\"152.5801\" y=\"-595.3\" font-family=\"Times,serif\" font-size=\"14.00\" fill=\"#000000\">Do you like piña coladas?</text>\n</g>\n<!-- letter&#45;&gt;pina -->\n<g id=\"edge11\" class=\"edge\">\n<title>letter&#45;&gt;pina</title>\n<path fill=\"none\" stroke=\"#000000\" d=\"M152.5801,-653.9551C152.5801,-645.8828 152.5801,-636.1764 152.5801,-627.1817\"/>\n<polygon fill=\"#000000\" stroke=\"#000000\" points=\"156.0802,-627.0903 152.5801,-617.0904 149.0802,-627.0904 156.0802,-627.0903\"/>\n</g>\n<!-- response -->\n<g id=\"node2\" class=\"node\">\n<title>response</title>\n<ellipse fill=\"none\" stroke=\"#000000\" cx=\"703.5801\" cy=\"-91\" rx=\"80.6858\" ry=\"18\"/>\n<text text-anchor=\"middle\" x=\"703.5801\" y=\"-87.3\" font-family=\"Times,serif\" font-size=\"14.00\" fill=\"#000000\">Write to the author</text>\n</g>\n<!-- escape -->\n<g id=\"node3\" class=\"node\">\n<title>escape</title>\n<ellipse fill=\"none\" stroke=\"#000000\" cx=\"703.5801\" cy=\"-18\" rx=\"36.2938\" ry=\"18\"/>\n<text text-anchor=\"middle\" x=\"703.5801\" y=\"-14.3\" font-family=\"Times,serif\" font-size=\"14.00\" fill=\"#000000\">Escape</text>\n</g>\n<!-- response&#45;&gt;escape -->\n<g id=\"edge13\" class=\"edge\">\n<title>response&#45;&gt;escape</title>\n<path fill=\"none\" stroke=\"#000000\" d=\"M703.5801,-72.9551C703.5801,-64.8828 703.5801,-55.1764 703.5801,-46.1817\"/>\n<polygon fill=\"#000000\" stroke=\"#000000\" points=\"707.0802,-46.0903 703.5801,-36.0904 700.0802,-46.0904 707.0802,-46.0903\"/>\n</g>\n<!-- nothing -->\n<g id=\"node4\" class=\"node\">\n<title>nothing</title>\n<ellipse fill=\"none\" stroke=\"#000000\" cx=\"254.5801\" cy=\"-164\" rx=\"53.8905\" ry=\"18\"/>\n<text text-anchor=\"middle\" x=\"254.5801\" y=\"-160.3\" font-family=\"Times,serif\" font-size=\"14.00\" fill=\"#000000\">Do nothing</text>\n</g>\n<!-- pina&#45;&gt;nothing -->\n<g id=\"edge6\" class=\"edge\">\n<title>pina&#45;&gt;nothing</title>\n<path fill=\"none\" stroke=\"#000000\" d=\"M147.4295,-581.511C142.7522,-564.0654 136.5801,-536.4184 136.5801,-512 136.5801,-512 136.5801,-512 136.5801,-251 136.5801,-215.3251 171.9534,-192.635 203.9651,-179.4054\"/>\n<polygon fill=\"#000000\" stroke=\"#000000\" points=\"205.2648,-182.6553 213.3094,-175.7608 202.7212,-176.1338 205.2648,-182.6553\"/>\n<text text-anchor=\"middle\" x=\"144.5801\" y=\"-377.8\" font-family=\"Times,serif\" font-size=\"14.00\" fill=\"#000000\">no</text>\n</g>\n<!-- rain -->\n<g id=\"node6\" class=\"node\">\n<title>rain</title>\n<polygon fill=\"none\" stroke=\"#000000\" points=\"384.5801,-530 164.7228,-512 384.5801,-494 604.4374,-512 384.5801,-530\"/>\n<text text-anchor=\"middle\" x=\"384.5801\" y=\"-508.3\" font-family=\"Times,serif\" font-size=\"14.00\" fill=\"#000000\">Do you like getting caught in the rain?</text>\n</g>\n<!-- pina&#45;&gt;rain -->\n<g id=\"edge1\" class=\"edge\">\n<title>pina&#45;&gt;rain</title>\n<path fill=\"none\" stroke=\"#000000\" d=\"M189.3412,-585.2146C228.7779,-570.4258 291.6202,-546.86 335.3161,-530.474\"/>\n<polygon fill=\"#000000\" stroke=\"#000000\" points=\"336.749,-533.6748 344.8833,-526.8863 334.291,-527.1204 336.749,-533.6748\"/>\n<text text-anchor=\"middle\" x=\"292.0801\" y=\"-551.8\" font-family=\"Times,serif\" font-size=\"14.00\" fill=\"#000000\">yes</text>\n</g>\n<!-- rain&#45;&gt;nothing -->\n<g id=\"edge7\" class=\"edge\">\n<title>rain&#45;&gt;nothing</title>\n<path fill=\"none\" stroke=\"#000000\" d=\"M298.0899,-501.0507C254.4206,-490.1502 210.5801,-468.3995 210.5801,-425 210.5801,-425 210.5801,-425 210.5801,-251 210.5801,-228.7212 222.212,-206.3528 233.5144,-189.8765\"/>\n<polygon fill=\"#000000\" stroke=\"#000000\" points=\"236.6476,-191.5177 239.6837,-181.3672 230.9803,-187.4089 236.6476,-191.5177\"/>\n<text text-anchor=\"middle\" x=\"218.5801\" y=\"-334.3\" font-family=\"Times,serif\" font-size=\"14.00\" fill=\"#000000\">no</text>\n</g>\n<!-- yoga -->\n<g id=\"node7\" class=\"node\">\n<title>yoga</title>\n<polygon fill=\"none\" stroke=\"#000000\" points=\"384.5801,-443 266.7756,-425 384.5801,-407 502.3846,-425 384.5801,-443\"/>\n<text text-anchor=\"middle\" x=\"384.5801\" y=\"-421.3\" font-family=\"Times,serif\" font-size=\"14.00\" fill=\"#000000\">Are you into yoga?</text>\n</g>\n<!-- rain&#45;&gt;yoga -->\n<g id=\"edge2\" class=\"edge\">\n<title>rain&#45;&gt;yoga</title>\n<path fill=\"none\" stroke=\"#000000\" d=\"M384.5801,-493.9735C384.5801,-482.1918 384.5801,-466.5607 384.5801,-453.1581\"/>\n<polygon fill=\"#000000\" stroke=\"#000000\" points=\"388.0802,-453.0033 384.5801,-443.0034 381.0802,-453.0034 388.0802,-453.0033\"/>\n<text text-anchor=\"middle\" x=\"394.0801\" y=\"-464.8\" font-family=\"Times,serif\" font-size=\"14.00\" fill=\"#000000\">yes</text>\n</g>\n<!-- yoga&#45;&gt;nothing -->\n<g id=\"edge8\" class=\"edge\">\n<title>yoga&#45;&gt;nothing</title>\n<path fill=\"none\" stroke=\"#000000\" d=\"M348.2765,-412.4123C322.8937,-401.5943 290.6033,-383.3566 273.5801,-356 241.9691,-305.2005 245.2209,-231.8161 250.0745,-192.0957\"/>\n<polygon fill=\"#000000\" stroke=\"#000000\" points=\"253.5596,-192.4401 251.4242,-182.0627 246.6221,-191.5067 253.5596,-192.4401\"/>\n<text text-anchor=\"middle\" x=\"262.0801\" y=\"-290.8\" font-family=\"Times,serif\" font-size=\"14.00\" fill=\"#000000\">yes</text>\n</g>\n<!-- brain -->\n<g id=\"node8\" class=\"node\">\n<title>brain</title>\n<polygon fill=\"none\" stroke=\"#000000\" points=\"462.5801,-356 282.2703,-338 462.5801,-320 642.8899,-338 462.5801,-356\"/>\n<text text-anchor=\"middle\" x=\"462.5801\" y=\"-334.3\" font-family=\"Times,serif\" font-size=\"14.00\" fill=\"#000000\">How much brain do you have?</text>\n</g>\n<!-- yoga&#45;&gt;brain -->\n<g id=\"edge3\" class=\"edge\">\n<title>yoga&#45;&gt;brain</title>\n<path fill=\"none\" stroke=\"#000000\" d=\"M398.8865,-409.0429C410.5386,-396.0463 427.1864,-377.4776 440.5399,-362.5833\"/>\n<polygon fill=\"#000000\" stroke=\"#000000\" points=\"443.4974,-364.5276 447.5669,-354.7455 438.2854,-359.8548 443.4974,-364.5276\"/>\n<text text-anchor=\"middle\" x=\"435.5801\" y=\"-377.8\" font-family=\"Times,serif\" font-size=\"14.00\" fill=\"#000000\">no</text>\n</g>\n<!-- brain&#45;&gt;nothing -->\n<g id=\"edge9\" class=\"edge\">\n<title>brain&#45;&gt;nothing</title>\n<path fill=\"none\" stroke=\"#000000\" d=\"M412.9639,-324.8848C380.4018,-314.2207 338.6261,-296.3851 309.5801,-269 297.4449,-257.5587 278.6269,-218.5101 266.454,-191.4018\"/>\n<polygon fill=\"#000000\" stroke=\"#000000\" points=\"269.5498,-189.7491 262.2947,-182.0281 263.1514,-192.5882 269.5498,-189.7491\"/>\n<text text-anchor=\"middle\" x=\"327.5801\" y=\"-247.3\" font-family=\"Times,serif\" font-size=\"14.00\" fill=\"#000000\">whole</text>\n</g>\n<!-- sex -->\n<g id=\"node9\" class=\"node\">\n<title>sex</title>\n<polygon fill=\"none\" stroke=\"#000000\" points=\"703.5801,-269 354.5204,-251 703.5801,-233 1052.6398,-251 703.5801,-269\"/>\n<text text-anchor=\"middle\" x=\"703.5801\" y=\"-247.3\" font-family=\"Times,serif\" font-size=\"14.00\" fill=\"#000000\">Do you like making love at midnight in the dunes on the cape?</text>\n</g>\n<!-- brain&#45;&gt;sex -->\n<g id=\"edge4\" class=\"edge\">\n<title>brain&#45;&gt;sex</title>\n<path fill=\"none\" stroke=\"#000000\" d=\"M501.8373,-323.8283C542.2223,-309.2495 605.3961,-286.444 650.2817,-270.2405\"/>\n<polygon fill=\"#000000\" stroke=\"#000000\" points=\"651.6332,-273.4738 659.8506,-266.7862 649.2563,-266.8897 651.6332,-273.4738\"/>\n<text text-anchor=\"middle\" x=\"612.5801\" y=\"-290.8\" font-family=\"Times,serif\" font-size=\"14.00\" fill=\"#000000\">a half</text>\n</g>\n<!-- sex&#45;&gt;nothing -->\n<g id=\"edge10\" class=\"edge\">\n<title>sex&#45;&gt;nothing</title>\n<path fill=\"none\" stroke=\"#000000\" d=\"M630.1906,-236.7798C541.0124,-219.5002 392.4579,-190.7157 311.475,-175.0242\"/>\n<polygon fill=\"#000000\" stroke=\"#000000\" points=\"311.9481,-171.5508 301.4649,-173.0846 310.6164,-178.423 311.9481,-171.5508\"/>\n<text text-anchor=\"middle\" x=\"513.5801\" y=\"-203.8\" font-family=\"Times,serif\" font-size=\"14.00\" fill=\"#000000\">no</text>\n</g>\n<!-- author -->\n<g id=\"node10\" class=\"node\">\n<title>author</title>\n<polygon fill=\"none\" stroke=\"#000000\" points=\"829.0801,-182 578.0801,-182 578.0801,-146 829.0801,-146 829.0801,-182\"/>\n<text text-anchor=\"middle\" x=\"703.5801\" y=\"-160.3\" font-family=\"Times,serif\" font-size=\"14.00\" fill=\"#000000\">Author is the love that you&#39;ve looked for</text>\n</g>\n<!-- sex&#45;&gt;author -->\n<g id=\"edge5\" class=\"edge\">\n<title>sex&#45;&gt;author</title>\n<path fill=\"none\" stroke=\"#000000\" d=\"M703.5801,-232.9735C703.5801,-221.1918 703.5801,-205.5607 703.5801,-192.1581\"/>\n<polygon fill=\"#000000\" stroke=\"#000000\" points=\"707.0802,-192.0033 703.5801,-182.0034 700.0802,-192.0034 707.0802,-192.0033\"/>\n<text text-anchor=\"middle\" x=\"713.0801\" y=\"-203.8\" font-family=\"Times,serif\" font-size=\"14.00\" fill=\"#000000\">yes</text>\n</g>\n<!-- author&#45;&gt;response -->\n<g id=\"edge12\" class=\"edge\">\n<title>author&#45;&gt;response</title>\n<path fill=\"none\" stroke=\"#000000\" d=\"M703.5801,-145.9551C703.5801,-137.8828 703.5801,-128.1764 703.5801,-119.1817\"/>\n<polygon fill=\"#000000\" stroke=\"#000000\" points=\"707.0802,-119.0903 703.5801,-109.0904 700.0802,-119.0904 707.0802,-119.0903\"/>\n</g>\n</g>\n</svg>\n"
          },
          "metadata": {
            "tags": []
          },
          "execution_count": 9
        }
      ]
    },
    {
      "cell_type": "markdown",
      "metadata": {
        "id": "LVWxkTZxhbGa",
        "colab_type": "text"
      },
      "source": [
        "## Przykład 2 - \"Automatyczny\" wykres"
      ]
    },
    {
      "cell_type": "code",
      "metadata": {
        "id": "jYw1Jszbiws1",
        "colab_type": "code",
        "colab": {
          "base_uri": "https://localhost:8080/",
          "height": 368
        },
        "outputId": "4a608d56-22ee-49d8-9f3e-94d863d5e6f3"
      },
      "source": [
        "number_graph = Digraph(comment='Dzielniki')\n",
        "for i in range(1, 13):\n",
        "  number_graph.node(str(i))\n",
        "  for j in range(1, 13):\n",
        "    if j%i == 0:\n",
        "      number_graph.edge(str(i), str(j))\n",
        "\n",
        "number_graph"
      ],
      "execution_count": 10,
      "outputs": [
        {
          "output_type": "execute_result",
          "data": {
            "text/plain": [
              "<graphviz.dot.Digraph at 0x7fa7adb6edd8>"
            ],
            "image/svg+xml": "<?xml version=\"1.0\" encoding=\"UTF-8\" standalone=\"no\"?>\n<!DOCTYPE svg PUBLIC \"-//W3C//DTD SVG 1.1//EN\"\n \"http://www.w3.org/Graphics/SVG/1.1/DTD/svg11.dtd\">\n<!-- Generated by graphviz version 2.40.1 (20161225.0304)\n -->\n<!-- Title: %3 Pages: 1 -->\n<svg width=\"637pt\" height=\"260pt\"\n viewBox=\"0.00 0.00 636.77 260.00\" xmlns=\"http://www.w3.org/2000/svg\" xmlns:xlink=\"http://www.w3.org/1999/xlink\">\n<g id=\"graph0\" class=\"graph\" transform=\"scale(1 1) rotate(0) translate(4 256)\">\n<title>%3</title>\n<polygon fill=\"#ffffff\" stroke=\"transparent\" points=\"-4,4 -4,-256 632.7673,-256 632.7673,4 -4,4\"/>\n<!-- 1 -->\n<g id=\"node1\" class=\"node\">\n<title>1</title>\n<ellipse fill=\"none\" stroke=\"#000000\" cx=\"308.2233\" cy=\"-234\" rx=\"27\" ry=\"18\"/>\n<text text-anchor=\"middle\" x=\"308.2233\" y=\"-230.3\" font-family=\"Times,serif\" font-size=\"14.00\" fill=\"#000000\">1</text>\n</g>\n<!-- 1&#45;&gt;1 -->\n<g id=\"edge1\" class=\"edge\">\n<title>1&#45;&gt;1</title>\n<path fill=\"none\" stroke=\"#000000\" d=\"M328.1183,-246.4321C340.9113,-249.6753 353.2233,-245.5313 353.2233,-234 353.2233,-225.6218 346.7239,-221.1433 338.2628,-220.5644\"/>\n<polygon fill=\"#000000\" stroke=\"#000000\" points=\"337.7252,-217.1004 328.1183,-221.5679 338.4143,-224.0665 337.7252,-217.1004\"/>\n</g>\n<!-- 2 -->\n<g id=\"node2\" class=\"node\">\n<title>2</title>\n<ellipse fill=\"none\" stroke=\"#000000\" cx=\"90.2233\" cy=\"-162\" rx=\"27\" ry=\"18\"/>\n<text text-anchor=\"middle\" x=\"90.2233\" y=\"-158.3\" font-family=\"Times,serif\" font-size=\"14.00\" fill=\"#000000\">2</text>\n</g>\n<!-- 1&#45;&gt;2 -->\n<g id=\"edge2\" class=\"edge\">\n<title>1&#45;&gt;2</title>\n<path fill=\"none\" stroke=\"#000000\" d=\"M283.7632,-225.977C251.7056,-215.455 193.735,-196.4032 144.2233,-180 137.6685,-177.8284 130.6689,-175.5013 123.9557,-173.2653\"/>\n<polygon fill=\"#000000\" stroke=\"#000000\" points=\"125.0037,-169.9253 114.41,-170.0832 122.7899,-176.5661 125.0037,-169.9253\"/>\n</g>\n<!-- 3 -->\n<g id=\"node3\" class=\"node\">\n<title>3</title>\n<ellipse fill=\"none\" stroke=\"#000000\" cx=\"436.2233\" cy=\"-162\" rx=\"27\" ry=\"18\"/>\n<text text-anchor=\"middle\" x=\"436.2233\" y=\"-158.3\" font-family=\"Times,serif\" font-size=\"14.00\" fill=\"#000000\">3</text>\n</g>\n<!-- 1&#45;&gt;3 -->\n<g id=\"edge3\" class=\"edge\">\n<title>1&#45;&gt;3</title>\n<path fill=\"none\" stroke=\"#000000\" d=\"M329.0736,-222.2717C350.0866,-210.4519 382.7159,-192.0979 406.449,-178.7481\"/>\n<polygon fill=\"#000000\" stroke=\"#000000\" points=\"408.3821,-181.6764 415.3819,-173.7233 404.9502,-175.5754 408.3821,-181.6764\"/>\n</g>\n<!-- 4 -->\n<g id=\"node4\" class=\"node\">\n<title>4</title>\n<ellipse fill=\"none\" stroke=\"#000000\" cx=\"44.2233\" cy=\"-90\" rx=\"27\" ry=\"18\"/>\n<text text-anchor=\"middle\" x=\"44.2233\" y=\"-86.3\" font-family=\"Times,serif\" font-size=\"14.00\" fill=\"#000000\">4</text>\n</g>\n<!-- 1&#45;&gt;4 -->\n<g id=\"edge4\" class=\"edge\">\n<title>1&#45;&gt;4</title>\n<path fill=\"none\" stroke=\"#000000\" d=\"M280.9791,-232.1406C221.8041,-227.5066 84.4125,-213.3304 54.2233,-180 39.2833,-163.5056 37.8082,-137.7336 39.4749,-117.9879\"/>\n<polygon fill=\"#000000\" stroke=\"#000000\" points=\"42.9565,-118.3479 40.6181,-108.0143 36.002,-117.5507 42.9565,-118.3479\"/>\n</g>\n<!-- 5 -->\n<g id=\"node5\" class=\"node\">\n<title>5</title>\n<ellipse fill=\"none\" stroke=\"#000000\" cx=\"180.2233\" cy=\"-162\" rx=\"27\" ry=\"18\"/>\n<text text-anchor=\"middle\" x=\"180.2233\" y=\"-158.3\" font-family=\"Times,serif\" font-size=\"14.00\" fill=\"#000000\">5</text>\n</g>\n<!-- 1&#45;&gt;5 -->\n<g id=\"edge5\" class=\"edge\">\n<title>1&#45;&gt;5</title>\n<path fill=\"none\" stroke=\"#000000\" d=\"M287.373,-222.2717C266.3599,-210.4519 233.7306,-192.0979 209.9976,-178.7481\"/>\n<polygon fill=\"#000000\" stroke=\"#000000\" points=\"211.4963,-175.5754 201.0647,-173.7233 208.0645,-181.6764 211.4963,-175.5754\"/>\n</g>\n<!-- 6 -->\n<g id=\"node6\" class=\"node\">\n<title>6</title>\n<ellipse fill=\"none\" stroke=\"#000000\" cx=\"363.2233\" cy=\"-90\" rx=\"27\" ry=\"18\"/>\n<text text-anchor=\"middle\" x=\"363.2233\" y=\"-86.3\" font-family=\"Times,serif\" font-size=\"14.00\" fill=\"#000000\">6</text>\n</g>\n<!-- 1&#45;&gt;6 -->\n<g id=\"edge6\" class=\"edge\">\n<title>1&#45;&gt;6</title>\n<path fill=\"none\" stroke=\"#000000\" d=\"M327.2729,-221.1163C339.7705,-211.4469 355.0763,-196.9867 362.2233,-180 370.4297,-160.4951 370.2337,-136.4412 368.2285,-118.1091\"/>\n<polygon fill=\"#000000\" stroke=\"#000000\" points=\"371.6789,-117.5043 366.8886,-108.0543 364.7403,-118.429 371.6789,-117.5043\"/>\n</g>\n<!-- 7 -->\n<g id=\"node7\" class=\"node\">\n<title>7</title>\n<ellipse fill=\"none\" stroke=\"#000000\" cx=\"308.2233\" cy=\"-162\" rx=\"27\" ry=\"18\"/>\n<text text-anchor=\"middle\" x=\"308.2233\" y=\"-158.3\" font-family=\"Times,serif\" font-size=\"14.00\" fill=\"#000000\">7</text>\n</g>\n<!-- 1&#45;&gt;7 -->\n<g id=\"edge7\" class=\"edge\">\n<title>1&#45;&gt;7</title>\n<path fill=\"none\" stroke=\"#000000\" d=\"M308.2233,-215.8314C308.2233,-208.131 308.2233,-198.9743 308.2233,-190.4166\"/>\n<polygon fill=\"#000000\" stroke=\"#000000\" points=\"311.7234,-190.4132 308.2233,-180.4133 304.7234,-190.4133 311.7234,-190.4132\"/>\n</g>\n<!-- 8 -->\n<g id=\"node8\" class=\"node\">\n<title>8</title>\n<ellipse fill=\"none\" stroke=\"#000000\" cx=\"44.2233\" cy=\"-18\" rx=\"27\" ry=\"18\"/>\n<text text-anchor=\"middle\" x=\"44.2233\" y=\"-14.3\" font-family=\"Times,serif\" font-size=\"14.00\" fill=\"#000000\">8</text>\n</g>\n<!-- 1&#45;&gt;8 -->\n<g id=\"edge8\" class=\"edge\">\n<title>1&#45;&gt;8</title>\n<path fill=\"none\" stroke=\"#000000\" d=\"M280.9612,-231.9437C219.428,-226.7884 72.2462,-211.4159 35.2233,-180 -2.5023,-147.9878 -6.1144,-119.3543 8.2233,-72 11.4894,-61.2127 17.6997,-50.6108 24.0546,-41.6963\"/>\n<polygon fill=\"#000000\" stroke=\"#000000\" points=\"26.8517,-43.8001 30.1003,-33.7156 21.272,-39.5732 26.8517,-43.8001\"/>\n</g>\n<!-- 9 -->\n<g id=\"node9\" class=\"node\">\n<title>9</title>\n<ellipse fill=\"none\" stroke=\"#000000\" cx=\"500.2233\" cy=\"-90\" rx=\"27\" ry=\"18\"/>\n<text text-anchor=\"middle\" x=\"500.2233\" y=\"-86.3\" font-family=\"Times,serif\" font-size=\"14.00\" fill=\"#000000\">9</text>\n</g>\n<!-- 1&#45;&gt;9 -->\n<g id=\"edge9\" class=\"edge\">\n<title>1&#45;&gt;9</title>\n<path fill=\"none\" stroke=\"#000000\" d=\"M334.6303,-229.8109C380.0884,-222.0344 470.1889,-203.9548 490.2233,-180 504.3498,-163.1092 506.0119,-137.7604 504.6201,-118.2648\"/>\n<polygon fill=\"#000000\" stroke=\"#000000\" points=\"508.0832,-117.7229 503.5924,-108.1269 501.1188,-118.429 508.0832,-117.7229\"/>\n</g>\n<!-- 10 -->\n<g id=\"node10\" class=\"node\">\n<title>10</title>\n<ellipse fill=\"none\" stroke=\"#000000\" cx=\"210.2233\" cy=\"-90\" rx=\"27\" ry=\"18\"/>\n<text text-anchor=\"middle\" x=\"210.2233\" y=\"-86.3\" font-family=\"Times,serif\" font-size=\"14.00\" fill=\"#000000\">10</text>\n</g>\n<!-- 1&#45;&gt;10 -->\n<g id=\"edge10\" class=\"edge\">\n<title>1&#45;&gt;10</title>\n<path fill=\"none\" stroke=\"#000000\" d=\"M296.9814,-217.4814C279.9409,-192.4423 247.4418,-144.6885 227.4186,-115.2665\"/>\n<polygon fill=\"#000000\" stroke=\"#000000\" points=\"230.1557,-113.0675 221.6359,-106.7695 224.3687,-117.0059 230.1557,-113.0675\"/>\n</g>\n<!-- 11 -->\n<g id=\"node11\" class=\"node\">\n<title>11</title>\n<ellipse fill=\"none\" stroke=\"#000000\" cx=\"564.2233\" cy=\"-162\" rx=\"27\" ry=\"18\"/>\n<text text-anchor=\"middle\" x=\"564.2233\" y=\"-158.3\" font-family=\"Times,serif\" font-size=\"14.00\" fill=\"#000000\">11</text>\n</g>\n<!-- 1&#45;&gt;11 -->\n<g id=\"edge11\" class=\"edge\">\n<title>1&#45;&gt;11</title>\n<path fill=\"none\" stroke=\"#000000\" d=\"M334.4462,-228.8966C375.3572,-220.6052 456.5919,-202.814 523.2233,-180 526.3122,-178.9424 529.4912,-177.7473 532.6475,-176.4883\"/>\n<polygon fill=\"#000000\" stroke=\"#000000\" points=\"534.0674,-179.6882 541.9358,-172.5932 531.3602,-173.2329 534.0674,-179.6882\"/>\n</g>\n<!-- 12 -->\n<g id=\"node12\" class=\"node\">\n<title>12</title>\n<ellipse fill=\"none\" stroke=\"#000000\" cx=\"363.2233\" cy=\"-18\" rx=\"27\" ry=\"18\"/>\n<text text-anchor=\"middle\" x=\"363.2233\" y=\"-14.3\" font-family=\"Times,serif\" font-size=\"14.00\" fill=\"#000000\">12</text>\n</g>\n<!-- 1&#45;&gt;12 -->\n<g id=\"edge12\" class=\"edge\">\n<title>1&#45;&gt;12</title>\n<path fill=\"none\" stroke=\"#000000\" d=\"M335.4364,-233.5405C404.2121,-231.7467 582.0977,-222.9624 618.2233,-180 658.392,-132.2293 565.748,-79.2229 554.2233,-72 506.0084,-41.7822 440.5264,-28.0798 400.1128,-22.1594\"/>\n<polygon fill=\"#000000\" stroke=\"#000000\" points=\"400.5415,-18.6855 390.1567,-20.7845 399.5838,-25.6197 400.5415,-18.6855\"/>\n</g>\n<!-- 2&#45;&gt;2 -->\n<g id=\"edge13\" class=\"edge\">\n<title>2&#45;&gt;2</title>\n<path fill=\"none\" stroke=\"#000000\" d=\"M110.1183,-174.4321C122.9113,-177.6753 135.2233,-173.5313 135.2233,-162 135.2233,-153.6218 128.7239,-149.1433 120.2628,-148.5644\"/>\n<polygon fill=\"#000000\" stroke=\"#000000\" points=\"119.7252,-145.1004 110.1183,-149.5679 120.4143,-152.0665 119.7252,-145.1004\"/>\n</g>\n<!-- 2&#45;&gt;4 -->\n<g id=\"edge14\" class=\"edge\">\n<title>2&#45;&gt;4</title>\n<path fill=\"none\" stroke=\"#000000\" d=\"M79.5543,-145.3008C73.8647,-136.3952 66.7456,-125.2524 60.3916,-115.307\"/>\n<polygon fill=\"#000000\" stroke=\"#000000\" points=\"63.1678,-113.1513 54.8344,-106.6087 57.2689,-116.92 63.1678,-113.1513\"/>\n</g>\n<!-- 2&#45;&gt;6 -->\n<g id=\"edge15\" class=\"edge\">\n<title>2&#45;&gt;6</title>\n<path fill=\"none\" stroke=\"#000000\" d=\"M114.2871,-153.5206C123.588,-150.364 134.3511,-146.8575 144.2233,-144 208.299,-125.4532 284.0674,-107.6794 327.5974,-97.8618\"/>\n<polygon fill=\"#000000\" stroke=\"#000000\" points=\"328.431,-101.2618 337.4224,-95.6577 326.8987,-94.4316 328.431,-101.2618\"/>\n</g>\n<!-- 2&#45;&gt;8 -->\n<g id=\"edge16\" class=\"edge\">\n<title>2&#45;&gt;8</title>\n<path fill=\"none\" stroke=\"#000000\" d=\"M96.4976,-144.3498C102.0893,-125.6504 108.0082,-95.6228 98.2233,-72 92.6034,-58.4323 81.7373,-46.4961 71.217,-37.3196\"/>\n<polygon fill=\"#000000\" stroke=\"#000000\" points=\"73.2854,-34.4896 63.3321,-30.859 68.8489,-39.9042 73.2854,-34.4896\"/>\n</g>\n<!-- 2&#45;&gt;10 -->\n<g id=\"edge17\" class=\"edge\">\n<title>2&#45;&gt;10</title>\n<path fill=\"none\" stroke=\"#000000\" d=\"M110.3086,-149.9488C129.7775,-138.2675 159.5078,-120.4293 181.4797,-107.2461\"/>\n<polygon fill=\"#000000\" stroke=\"#000000\" points=\"183.2983,-110.2367 190.0725,-102.0905 179.6968,-104.2343 183.2983,-110.2367\"/>\n</g>\n<!-- 2&#45;&gt;12 -->\n<g id=\"edge18\" class=\"edge\">\n<title>2&#45;&gt;12</title>\n<path fill=\"none\" stroke=\"#000000\" d=\"M101.2914,-145.4863C115.7256,-125.2184 142.8652,-91.1863 174.2233,-72 222.0544,-42.7348 286.3489,-28.7907 326.2667,-22.5566\"/>\n<polygon fill=\"#000000\" stroke=\"#000000\" points=\"326.9746,-25.9901 336.3549,-21.0646 325.9504,-19.0654 326.9746,-25.9901\"/>\n</g>\n<!-- 3&#45;&gt;3 -->\n<g id=\"edge19\" class=\"edge\">\n<title>3&#45;&gt;3</title>\n<path fill=\"none\" stroke=\"#000000\" d=\"M456.1183,-174.4321C468.9113,-177.6753 481.2233,-173.5313 481.2233,-162 481.2233,-153.6218 474.7239,-149.1433 466.2628,-148.5644\"/>\n<polygon fill=\"#000000\" stroke=\"#000000\" points=\"465.7252,-145.1004 456.1183,-149.5679 466.4143,-152.0665 465.7252,-145.1004\"/>\n</g>\n<!-- 3&#45;&gt;6 -->\n<g id=\"edge20\" class=\"edge\">\n<title>3&#45;&gt;6</title>\n<path fill=\"none\" stroke=\"#000000\" d=\"M421.0976,-147.0816C410.8888,-137.0125 397.2355,-123.5463 385.754,-112.2221\"/>\n<polygon fill=\"#000000\" stroke=\"#000000\" points=\"388.1582,-109.6773 378.5807,-105.147 383.2426,-114.6611 388.1582,-109.6773\"/>\n</g>\n<!-- 3&#45;&gt;9 -->\n<g id=\"edge21\" class=\"edge\">\n<title>3&#45;&gt;9</title>\n<path fill=\"none\" stroke=\"#000000\" d=\"M450.1103,-146.3771C458.7486,-136.659 470.0126,-123.987 479.673,-113.1191\"/>\n<polygon fill=\"#000000\" stroke=\"#000000\" points=\"482.3356,-115.3918 486.3633,-105.5924 477.1037,-110.7413 482.3356,-115.3918\"/>\n</g>\n<!-- 3&#45;&gt;12 -->\n<g id=\"edge22\" class=\"edge\">\n<title>3&#45;&gt;12</title>\n<path fill=\"none\" stroke=\"#000000\" d=\"M435.4061,-143.7075C433.8857,-124.7432 429.5519,-94.7439 417.2233,-72 410.2752,-59.1821 399.332,-47.412 389.1081,-38.1548\"/>\n<polygon fill=\"#000000\" stroke=\"#000000\" points=\"391.3637,-35.4782 381.5082,-31.5898 386.7878,-40.7755 391.3637,-35.4782\"/>\n</g>\n<!-- 4&#45;&gt;4 -->\n<g id=\"edge23\" class=\"edge\">\n<title>4&#45;&gt;4</title>\n<path fill=\"none\" stroke=\"#000000\" d=\"M64.1183,-102.4321C76.9113,-105.6753 89.2233,-101.5313 89.2233,-90 89.2233,-81.6218 82.7239,-77.1433 74.2628,-76.5644\"/>\n<polygon fill=\"#000000\" stroke=\"#000000\" points=\"73.7252,-73.1004 64.1183,-77.5679 74.4143,-80.0665 73.7252,-73.1004\"/>\n</g>\n<!-- 4&#45;&gt;8 -->\n<g id=\"edge24\" class=\"edge\">\n<title>4&#45;&gt;8</title>\n<path fill=\"none\" stroke=\"#000000\" d=\"M44.2233,-71.8314C44.2233,-64.131 44.2233,-54.9743 44.2233,-46.4166\"/>\n<polygon fill=\"#000000\" stroke=\"#000000\" points=\"47.7234,-46.4132 44.2233,-36.4133 40.7234,-46.4133 47.7234,-46.4132\"/>\n</g>\n<!-- 4&#45;&gt;12 -->\n<g id=\"edge25\" class=\"edge\">\n<title>4&#45;&gt;12</title>\n<path fill=\"none\" stroke=\"#000000\" d=\"M70.0582,-84.1689C126.9389,-71.3306 263.0759,-40.6038 327.8349,-25.9874\"/>\n<polygon fill=\"#000000\" stroke=\"#000000\" points=\"328.6084,-29.4009 337.5924,-23.785 327.0671,-22.5727 328.6084,-29.4009\"/>\n</g>\n<!-- 5&#45;&gt;5 -->\n<g id=\"edge26\" class=\"edge\">\n<title>5&#45;&gt;5</title>\n<path fill=\"none\" stroke=\"#000000\" d=\"M200.1183,-174.4321C212.9113,-177.6753 225.2233,-173.5313 225.2233,-162 225.2233,-153.6218 218.7239,-149.1433 210.2628,-148.5644\"/>\n<polygon fill=\"#000000\" stroke=\"#000000\" points=\"209.7252,-145.1004 200.1183,-149.5679 210.4143,-152.0665 209.7252,-145.1004\"/>\n</g>\n<!-- 5&#45;&gt;10 -->\n<g id=\"edge27\" class=\"edge\">\n<title>5&#45;&gt;10</title>\n<path fill=\"none\" stroke=\"#000000\" d=\"M187.4854,-144.5708C190.9604,-136.2309 195.1983,-126.0598 199.0697,-116.7686\"/>\n<polygon fill=\"#000000\" stroke=\"#000000\" points=\"202.3086,-118.0952 202.924,-107.5182 195.847,-115.4028 202.3086,-118.0952\"/>\n</g>\n<!-- 6&#45;&gt;6 -->\n<g id=\"edge28\" class=\"edge\">\n<title>6&#45;&gt;6</title>\n<path fill=\"none\" stroke=\"#000000\" d=\"M383.1183,-102.4321C395.9113,-105.6753 408.2233,-101.5313 408.2233,-90 408.2233,-81.6218 401.7239,-77.1433 393.2628,-76.5644\"/>\n<polygon fill=\"#000000\" stroke=\"#000000\" points=\"392.7252,-73.1004 383.1183,-77.5679 393.4143,-80.0665 392.7252,-73.1004\"/>\n</g>\n<!-- 6&#45;&gt;12 -->\n<g id=\"edge29\" class=\"edge\">\n<title>6&#45;&gt;12</title>\n<path fill=\"none\" stroke=\"#000000\" d=\"M363.2233,-71.8314C363.2233,-64.131 363.2233,-54.9743 363.2233,-46.4166\"/>\n<polygon fill=\"#000000\" stroke=\"#000000\" points=\"366.7234,-46.4132 363.2233,-36.4133 359.7234,-46.4133 366.7234,-46.4132\"/>\n</g>\n<!-- 7&#45;&gt;7 -->\n<g id=\"edge30\" class=\"edge\">\n<title>7&#45;&gt;7</title>\n<path fill=\"none\" stroke=\"#000000\" d=\"M328.1183,-174.4321C340.9113,-177.6753 353.2233,-173.5313 353.2233,-162 353.2233,-153.6218 346.7239,-149.1433 338.2628,-148.5644\"/>\n<polygon fill=\"#000000\" stroke=\"#000000\" points=\"337.7252,-145.1004 328.1183,-149.5679 338.4143,-152.0665 337.7252,-145.1004\"/>\n</g>\n<!-- 8&#45;&gt;8 -->\n<g id=\"edge31\" class=\"edge\">\n<title>8&#45;&gt;8</title>\n<path fill=\"none\" stroke=\"#000000\" d=\"M64.1183,-30.4321C76.9113,-33.6753 89.2233,-29.5313 89.2233,-18 89.2233,-9.6218 82.7239,-5.1433 74.2628,-4.5644\"/>\n<polygon fill=\"#000000\" stroke=\"#000000\" points=\"73.7252,-1.1004 64.1183,-5.5679 74.4143,-8.0665 73.7252,-1.1004\"/>\n</g>\n<!-- 9&#45;&gt;9 -->\n<g id=\"edge32\" class=\"edge\">\n<title>9&#45;&gt;9</title>\n<path fill=\"none\" stroke=\"#000000\" d=\"M520.1183,-102.4321C532.9113,-105.6753 545.2233,-101.5313 545.2233,-90 545.2233,-81.6218 538.7239,-77.1433 530.2628,-76.5644\"/>\n<polygon fill=\"#000000\" stroke=\"#000000\" points=\"529.7252,-73.1004 520.1183,-77.5679 530.4143,-80.0665 529.7252,-73.1004\"/>\n</g>\n<!-- 10&#45;&gt;10 -->\n<g id=\"edge33\" class=\"edge\">\n<title>10&#45;&gt;10</title>\n<path fill=\"none\" stroke=\"#000000\" d=\"M230.1183,-102.4321C242.9113,-105.6753 255.2233,-101.5313 255.2233,-90 255.2233,-81.6218 248.7239,-77.1433 240.2628,-76.5644\"/>\n<polygon fill=\"#000000\" stroke=\"#000000\" points=\"239.7252,-73.1004 230.1183,-77.5679 240.4143,-80.0665 239.7252,-73.1004\"/>\n</g>\n<!-- 11&#45;&gt;11 -->\n<g id=\"edge34\" class=\"edge\">\n<title>11&#45;&gt;11</title>\n<path fill=\"none\" stroke=\"#000000\" d=\"M584.1183,-174.4321C596.9113,-177.6753 609.2233,-173.5313 609.2233,-162 609.2233,-153.6218 602.7239,-149.1433 594.2628,-148.5644\"/>\n<polygon fill=\"#000000\" stroke=\"#000000\" points=\"593.7252,-145.1004 584.1183,-149.5679 594.4143,-152.0665 593.7252,-145.1004\"/>\n</g>\n<!-- 12&#45;&gt;12 -->\n<g id=\"edge35\" class=\"edge\">\n<title>12&#45;&gt;12</title>\n<path fill=\"none\" stroke=\"#000000\" d=\"M383.1183,-30.4321C395.9113,-33.6753 408.2233,-29.5313 408.2233,-18 408.2233,-9.6218 401.7239,-5.1433 393.2628,-4.5644\"/>\n<polygon fill=\"#000000\" stroke=\"#000000\" points=\"392.7252,-1.1004 383.1183,-5.5679 393.4143,-8.0665 392.7252,-1.1004\"/>\n</g>\n</g>\n</svg>\n"
          },
          "metadata": {
            "tags": []
          },
          "execution_count": 10
        }
      ]
    },
    {
      "cell_type": "code",
      "metadata": {
        "id": "aiUhRTrrj11O",
        "colab_type": "code",
        "colab": {}
      },
      "source": [
        ""
      ],
      "execution_count": 10,
      "outputs": []
    }
  ]
}